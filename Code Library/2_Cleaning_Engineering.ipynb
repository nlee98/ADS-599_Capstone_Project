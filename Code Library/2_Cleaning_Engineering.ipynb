{
 "cells": [
  {
   "cell_type": "markdown",
   "metadata": {},
   "source": [
    "# Notebook 2: Data Cleaning and Feature Engineering\n",
    "\n",
    "_For USD-599 Capstone Project by Hunter Blum, Kyle Esteban Dalope, and Nicholas Lee (Summer 2023)_\n",
    "\n",
    "***\n",
    "\n",
    "**Content Overview:**\n",
    "1. Text Sentiment feature creation\n",
    "2. Weighted Review Score feature creation\n",
    "3. Final feature removal\n",
    "4. Imputation strategy\n",
    "\n",
    "**Note: Some Cleaning and Engineering Steps Already Performed in Notebook 1: Data Exploration**\n",
    "1. Dropped \"source\" column.\n",
    "2. Removed duplicates keeping, most recent (date) observation.\n",
    "3. Removed uneeded columns such as pictures, host id's, etc. \n",
    "4. Filled missing values for bathrooms.\n",
    "5. Added zipcodes for neighborhood categories.\n",
    "7. Removed one feature from feature pairs with a correlation over 0.75.\n",
    "6. Created a binary variable based on property type descriptions.\n",
    "7. Created a binary variable based on if a property is private or shared with host."
   ]
  },
  {
   "cell_type": "code",
   "execution_count": 1,
   "metadata": {},
   "outputs": [],
   "source": [
    "# Library Imports\n",
    "import pandas as pd\n",
    "import numpy as np\n",
    "\n",
    "# Note needed to install older version 4.28.0\n",
    "from transformers import pipeline"
   ]
  },
  {
   "cell_type": "code",
   "execution_count": 10,
   "metadata": {},
   "outputs": [
    {
     "data": {
      "text/html": [
       "<div>\n",
       "<style scoped>\n",
       "    .dataframe tbody tr th:only-of-type {\n",
       "        vertical-align: middle;\n",
       "    }\n",
       "\n",
       "    .dataframe tbody tr th {\n",
       "        vertical-align: top;\n",
       "    }\n",
       "\n",
       "    .dataframe thead th {\n",
       "        text-align: right;\n",
       "    }\n",
       "</style>\n",
       "<table border=\"1\" class=\"dataframe\">\n",
       "  <thead>\n",
       "    <tr style=\"text-align: right;\">\n",
       "      <th></th>\n",
       "      <th>name</th>\n",
       "      <th>description</th>\n",
       "      <th>neighborhood_overview</th>\n",
       "      <th>host_listings_count</th>\n",
       "      <th>latitude</th>\n",
       "      <th>longitude</th>\n",
       "      <th>property_type</th>\n",
       "      <th>room_type</th>\n",
       "      <th>bathrooms</th>\n",
       "      <th>bedrooms</th>\n",
       "      <th>...</th>\n",
       "      <th>review_scores_rating</th>\n",
       "      <th>instant_bookable</th>\n",
       "      <th>calculated_host_listings_count</th>\n",
       "      <th>calculated_host_listings_count_private_rooms</th>\n",
       "      <th>calculated_host_listings_count_shared_rooms</th>\n",
       "      <th>reviews_per_month</th>\n",
       "      <th>zipcode</th>\n",
       "      <th>median_income_dollars</th>\n",
       "      <th>property_type_binary</th>\n",
       "      <th>private</th>\n",
       "    </tr>\n",
       "  </thead>\n",
       "  <tbody>\n",
       "    <tr>\n",
       "      <th>0</th>\n",
       "      <td>Huge Oceanview decks+RooftopDeck☀sleeps 10☀Gar...</td>\n",
       "      <td>10 steps from the boardwalk! Beautiful beach h...</td>\n",
       "      <td>NaN</td>\n",
       "      <td>52.0</td>\n",
       "      <td>32.78568</td>\n",
       "      <td>-117.25271</td>\n",
       "      <td>Entire home</td>\n",
       "      <td>Entire home/apt</td>\n",
       "      <td>2.0</td>\n",
       "      <td>2.0</td>\n",
       "      <td>...</td>\n",
       "      <td>4.84</td>\n",
       "      <td>t</td>\n",
       "      <td>30</td>\n",
       "      <td>0</td>\n",
       "      <td>0</td>\n",
       "      <td>3.77</td>\n",
       "      <td>92109</td>\n",
       "      <td>95170.0</td>\n",
       "      <td>house</td>\n",
       "      <td>1</td>\n",
       "    </tr>\n",
       "  </tbody>\n",
       "</table>\n",
       "<p>1 rows × 29 columns</p>\n",
       "</div>"
      ],
      "text/plain": [
       "                                                name  \\\n",
       "0  Huge Oceanview decks+RooftopDeck☀sleeps 10☀Gar...   \n",
       "\n",
       "                                         description neighborhood_overview  \\\n",
       "0  10 steps from the boardwalk! Beautiful beach h...                   NaN   \n",
       "\n",
       "   host_listings_count  latitude  longitude property_type        room_type  \\\n",
       "0                 52.0  32.78568 -117.25271   Entire home  Entire home/apt   \n",
       "\n",
       "   bathrooms  bedrooms  ...  review_scores_rating  instant_bookable  \\\n",
       "0        2.0       2.0  ...                  4.84                 t   \n",
       "\n",
       "   calculated_host_listings_count  \\\n",
       "0                              30   \n",
       "\n",
       "   calculated_host_listings_count_private_rooms  \\\n",
       "0                                             0   \n",
       "\n",
       "   calculated_host_listings_count_shared_rooms reviews_per_month  zipcode  \\\n",
       "0                                            0              3.77    92109   \n",
       "\n",
       "   median_income_dollars  property_type_binary  private  \n",
       "0                95170.0                 house        1  \n",
       "\n",
       "[1 rows x 29 columns]"
      ]
     },
     "execution_count": 10,
     "metadata": {},
     "output_type": "execute_result"
    }
   ],
   "source": [
    "# Import data from last notebook\n",
    "eda_df = pd.read_csv(\"../Data/eda.csv.gz\", compression = \"gzip\")\n",
    "eda_df.head(1)"
   ]
  },
  {
   "cell_type": "markdown",
   "metadata": {},
   "source": [
    "## Sentiment Based Feature Creation\n",
    "In order to capture the sentiment from our text-based variables, we will use transfer learning with a pre-trained model.\n",
    "\n",
    "First we'll combine all of our text-based columns into one."
   ]
  },
  {
   "cell_type": "code",
   "execution_count": 11,
   "metadata": {},
   "outputs": [],
   "source": [
    "# In order to combine, we need to fill any NAs with blank strings\n",
    "eda_df[['name', 'description', 'neighborhood_overview']] = eda_df[['name', 'description', 'neighborhood_overview']].fillna('')\n",
    "\n",
    "# Combine\n",
    "eda_df['text'] = eda_df['name'] + eda_df['description']\n",
    "eda_df['text'] = eda_df['text'] + eda_df['neighborhood_overview']\n",
    "\n",
    "# Our model can only handle less than 512 tokens so we'll truncate down\n",
    "eda_df['text_trunc'] = eda_df['text'].str.slice(0, 511)\n",
    "\n",
    "# How many observations were affected - Looks like none, but still got an error - could be due to different tokenzations\n",
    "eda_df['word_counts'] = eda_df['text'].apply(lambda n : len(n.split())) \n",
    "len(eda_df[eda_df['word_counts'] < 511])\n",
    "\n",
    "# Save our observations as a list\n",
    "corpus = eda_df['text_trunc'].to_list()\n"
   ]
  },
  {
   "cell_type": "code",
   "execution_count": 12,
   "metadata": {},
   "outputs": [
    {
     "name": "stderr",
     "output_type": "stream",
     "text": [
      "No model was supplied, defaulted to distilbert-base-uncased-finetuned-sst-2-english and revision af0f99b (https://huggingface.co/distilbert-base-uncased-finetuned-sst-2-english).\n",
      "Using a pipeline without specifying a model name and revision in production is not recommended.\n",
      "All PyTorch model weights were used when initializing TFDistilBertForSequenceClassification.\n",
      "\n",
      "All the weights of TFDistilBertForSequenceClassification were initialized from the PyTorch model.\n",
      "If your task is similar to the task the model of the checkpoint was trained on, you can already use TFDistilBertForSequenceClassification for predictions without further training.\n"
     ]
    }
   ],
   "source": [
    "# Load our model\n",
    "sent_clf = pipeline('sentiment-analysis')\n",
    "\n",
    "preds = []\n",
    "for i in corpus:\n",
    "    try:\n",
    "        pred = sent_clf(i)\n",
    "        preds.append(pred)\n",
    "    except:\n",
    "        preds.append(np.nan)\n"
   ]
  },
  {
   "cell_type": "code",
   "execution_count": 13,
   "metadata": {},
   "outputs": [],
   "source": [
    "# Un-nest the list\n",
    "import operator \n",
    "from functools import reduce\n",
    "\n",
    "preds2 = reduce(operator.add, preds)\n",
    "\n",
    "# Create probability of positive as our variable\n",
    "probs = [x['score'] if x['label'].startswith('P') else 1 - x['score'] for x in preds2]\n",
    "\n",
    "# Save as variable in our df\n",
    "eda_df['sentiment'] = probs"
   ]
  },
  {
   "cell_type": "code",
   "execution_count": 14,
   "metadata": {},
   "outputs": [
    {
     "name": "stderr",
     "output_type": "stream",
     "text": [
      "C:\\Users\\HunterBlum\\AppData\\Roaming\\Python\\Python39\\site-packages\\pandas\\core\\internals\\blocks.py:2538: RuntimeWarning: invalid value encountered in cast\n",
      "  values = values.astype(str)\n"
     ]
    }
   ],
   "source": [
    "# Write new df so we don't need to rerun model everytime\n",
    "eda_df.to_csv(\"../Data/sentiment.csv.gz\", compression= \"gzip\", index=False)"
   ]
  },
  {
   "cell_type": "markdown",
   "metadata": {},
   "source": [
    "## Review Feature Creation\n",
    "\n",
    "We did some further exploration on reviews since we believed that they were an important part of the process. We discovered that creating a weighted review score by multiplying the number of reviews and review score rating variable led to a high correlation with price."
   ]
  },
  {
   "cell_type": "code",
   "execution_count": 60,
   "metadata": {},
   "outputs": [
    {
     "data": {
      "text/html": [
       "<div>\n",
       "<style scoped>\n",
       "    .dataframe tbody tr th:only-of-type {\n",
       "        vertical-align: middle;\n",
       "    }\n",
       "\n",
       "    .dataframe tbody tr th {\n",
       "        vertical-align: top;\n",
       "    }\n",
       "\n",
       "    .dataframe thead th {\n",
       "        text-align: right;\n",
       "    }\n",
       "</style>\n",
       "<table border=\"1\" class=\"dataframe\">\n",
       "  <thead>\n",
       "    <tr style=\"text-align: right;\">\n",
       "      <th></th>\n",
       "      <th>name</th>\n",
       "      <th>description</th>\n",
       "      <th>neighborhood_overview</th>\n",
       "      <th>host_listings_count</th>\n",
       "      <th>latitude</th>\n",
       "      <th>longitude</th>\n",
       "      <th>property_type</th>\n",
       "      <th>room_type</th>\n",
       "      <th>bathrooms</th>\n",
       "      <th>bedrooms</th>\n",
       "      <th>...</th>\n",
       "      <th>calculated_host_listings_count_shared_rooms</th>\n",
       "      <th>reviews_per_month</th>\n",
       "      <th>zipcode</th>\n",
       "      <th>median_income_dollars</th>\n",
       "      <th>property_type_binary</th>\n",
       "      <th>private</th>\n",
       "      <th>text</th>\n",
       "      <th>text_trunc</th>\n",
       "      <th>word_counts</th>\n",
       "      <th>sentiment</th>\n",
       "    </tr>\n",
       "  </thead>\n",
       "  <tbody>\n",
       "    <tr>\n",
       "      <th>0</th>\n",
       "      <td>Huge Oceanview decks+RooftopDeck☀sleeps 10☀Gar...</td>\n",
       "      <td>10 steps from the boardwalk! Beautiful beach h...</td>\n",
       "      <td>NaN</td>\n",
       "      <td>52.0</td>\n",
       "      <td>32.78568</td>\n",
       "      <td>-117.25271</td>\n",
       "      <td>Entire home</td>\n",
       "      <td>Entire home/apt</td>\n",
       "      <td>2.0</td>\n",
       "      <td>2.0</td>\n",
       "      <td>...</td>\n",
       "      <td>0</td>\n",
       "      <td>3.77</td>\n",
       "      <td>92109</td>\n",
       "      <td>95170.0</td>\n",
       "      <td>house</td>\n",
       "      <td>1</td>\n",
       "      <td>Huge Oceanview decks+RooftopDeck☀sleeps 10☀Gar...</td>\n",
       "      <td>Huge Oceanview decks+RooftopDeck☀sleeps 10☀Gar...</td>\n",
       "      <td>171</td>\n",
       "      <td>0.900577</td>\n",
       "    </tr>\n",
       "  </tbody>\n",
       "</table>\n",
       "<p>1 rows × 33 columns</p>\n",
       "</div>"
      ],
      "text/plain": [
       "                                                name  \\\n",
       "0  Huge Oceanview decks+RooftopDeck☀sleeps 10☀Gar...   \n",
       "\n",
       "                                         description neighborhood_overview  \\\n",
       "0  10 steps from the boardwalk! Beautiful beach h...                   NaN   \n",
       "\n",
       "   host_listings_count  latitude  longitude property_type        room_type  \\\n",
       "0                 52.0  32.78568 -117.25271   Entire home  Entire home/apt   \n",
       "\n",
       "   bathrooms  bedrooms  ...  calculated_host_listings_count_shared_rooms  \\\n",
       "0        2.0       2.0  ...                                            0   \n",
       "\n",
       "   reviews_per_month  zipcode  median_income_dollars  property_type_binary  \\\n",
       "0               3.77    92109                95170.0                 house   \n",
       "\n",
       "  private                                               text  \\\n",
       "0       1  Huge Oceanview decks+RooftopDeck☀sleeps 10☀Gar...   \n",
       "\n",
       "                                          text_trunc  word_counts  sentiment  \n",
       "0  Huge Oceanview decks+RooftopDeck☀sleeps 10☀Gar...          171   0.900577  \n",
       "\n",
       "[1 rows x 33 columns]"
      ]
     },
     "execution_count": 60,
     "metadata": {},
     "output_type": "execute_result"
    }
   ],
   "source": [
    "# Read back in the data with sentiments\n",
    "sent_df = pd.read_csv(\"../Data/sentiment.csv.gz\", compression = \"gzip\")\n",
    "sent_df.head(1)"
   ]
  },
  {
   "cell_type": "code",
   "execution_count": 61,
   "metadata": {},
   "outputs": [
    {
     "data": {
      "text/plain": [
       "Text(0, 0.5, 'Price')"
      ]
     },
     "execution_count": 61,
     "metadata": {},
     "output_type": "execute_result"
    },
    {
     "data": {
      "image/png": "[encoded data removed]",
      "text/plain": [
       "<Figure size 640x480 with 1 Axes>"
      ]
     },
     "metadata": {},
     "output_type": "display_data"
    }
   ],
   "source": [
    "import matplotlib.pyplot as plt\n",
    "\n",
    "# Remove the large outlierS\n",
    "sent_df = sent_df[sent_df['price'] < 8000]\n",
    "sent_df['review_score_weighted'] = sent_df['review_scores_rating'] * sent_df['number_of_reviews']\n",
    "plt.plot('review_score_weighted', 'price', data=sent_df, marker = 'o', linestyle = 'none')\n",
    "plt.xlabel('Weighted Review Score')\n",
    "plt.ylabel('Price')"
   ]
  },
  {
   "cell_type": "markdown",
   "metadata": {},
   "source": [
    "## Feature Removal"
   ]
  },
  {
   "cell_type": "markdown",
   "metadata": {},
   "source": [
    "We do not need the text based features that were originally in the data as well as the ones we created, since they are being replaced by the sentiment variable. The same goes for our review features being replaced by the weighted review score. Finally, we will remove the latitude and longitude. As we discussed in the EDA notebook, they have a very low variance, and are being replaced by the categorical zipcode variable."
   ]
  },
  {
   "cell_type": "code",
   "execution_count": 62,
   "metadata": {},
   "outputs": [],
   "source": [
    "# Remove the text columns\n",
    "sent_df = sent_df.drop(columns = [\n",
    "    'name', 'description', 'neighborhood_overview',\n",
    "    'text', 'text_trunc', 'word_counts']\n",
    "    )\n",
    "\n",
    "# Remove the review score columns\n",
    "sent_df = sent_df.drop(columns=[\n",
    "    'review_scores_rating', 'number_of_reviews'\n",
    "])\n",
    "\n",
    "# Remove low variance features \n",
    "sent_df = sent_df.drop(columns=['longitude', 'latitude'])\n"
   ]
  },
  {
   "cell_type": "markdown",
   "metadata": {},
   "source": [
    "## Data Types\n",
    "Let's make sure all the columns are the correct data type "
   ]
  },
  {
   "cell_type": "code",
   "execution_count": 63,
   "metadata": {},
   "outputs": [
    {
     "data": {
      "text/plain": [
       "host_listings_count                             float64\n",
       "property_type                                    object\n",
       "room_type                                        object\n",
       "bathrooms                                       float64\n",
       "bedrooms                                        float64\n",
       "price                                           float64\n",
       "minimum_nights                                    int64\n",
       "maximum_nights                                    int64\n",
       "minimum_minimum_nights                          float64\n",
       "maximum_maximum_nights                          float64\n",
       "has_availability                                 object\n",
       "availability_30                                   int64\n",
       "availability_365                                  int64\n",
       "instant_bookable                                 object\n",
       "calculated_host_listings_count                    int64\n",
       "calculated_host_listings_count_private_rooms      int64\n",
       "calculated_host_listings_count_shared_rooms       int64\n",
       "reviews_per_month                               float64\n",
       "zipcode                                           int64\n",
       "median_income_dollars                           float64\n",
       "property_type_binary                             object\n",
       "private                                           int64\n",
       "sentiment                                       float64\n",
       "review_score_weighted                           float64\n",
       "dtype: object"
      ]
     },
     "execution_count": 63,
     "metadata": {},
     "output_type": "execute_result"
    }
   ],
   "source": [
    "sent_df.dtypes"
   ]
  },
  {
   "cell_type": "code",
   "execution_count": 64,
   "metadata": {},
   "outputs": [],
   "source": [
    "# Zipcode is categorical not numeric so we'll change it to an object\n",
    "sent_df['zipcode'] = sent_df['zipcode'].astype(object)"
   ]
  },
  {
   "cell_type": "code",
   "execution_count": 65,
   "metadata": {},
   "outputs": [],
   "source": [
    "# Read out clean df\n",
    "sent_df.to_csv(\"../Data/clean_df.csv.gz\", compression= \"gzip\", index=False)"
   ]
  },
  {
   "cell_type": "markdown",
   "metadata": {},
   "source": [
    "## Imputation Strategy\n",
    "Currently most of our missing data is coming from review related features. To prevent losing any observations to train on, we will impute any missing numeric features with the median of that column for the training dataset. Imputation will be handled in the modeling pipeline to prevent any spillover from training to testing datasets. No categorical feature had missing data, so we will not need to worry about imputation for those features."
   ]
  },
  {
   "cell_type": "code",
   "execution_count": 66,
   "metadata": {},
   "outputs": [
    {
     "data": {
      "text/html": [
       "<div>\n",
       "<style scoped>\n",
       "    .dataframe tbody tr th:only-of-type {\n",
       "        vertical-align: middle;\n",
       "    }\n",
       "\n",
       "    .dataframe tbody tr th {\n",
       "        vertical-align: top;\n",
       "    }\n",
       "\n",
       "    .dataframe thead th {\n",
       "        text-align: right;\n",
       "    }\n",
       "</style>\n",
       "<table border=\"1\" class=\"dataframe\">\n",
       "  <thead>\n",
       "    <tr style=\"text-align: right;\">\n",
       "      <th></th>\n",
       "      <th>host_listings_count</th>\n",
       "      <th>property_type</th>\n",
       "      <th>room_type</th>\n",
       "      <th>bathrooms</th>\n",
       "      <th>bedrooms</th>\n",
       "      <th>price</th>\n",
       "      <th>minimum_nights</th>\n",
       "      <th>maximum_nights</th>\n",
       "      <th>minimum_minimum_nights</th>\n",
       "      <th>maximum_maximum_nights</th>\n",
       "      <th>...</th>\n",
       "      <th>calculated_host_listings_count</th>\n",
       "      <th>calculated_host_listings_count_private_rooms</th>\n",
       "      <th>calculated_host_listings_count_shared_rooms</th>\n",
       "      <th>reviews_per_month</th>\n",
       "      <th>zipcode</th>\n",
       "      <th>median_income_dollars</th>\n",
       "      <th>property_type_binary</th>\n",
       "      <th>private</th>\n",
       "      <th>sentiment</th>\n",
       "      <th>review_score_weighted</th>\n",
       "    </tr>\n",
       "  </thead>\n",
       "  <tbody>\n",
       "    <tr>\n",
       "      <th>0</th>\n",
       "      <td>52.0</td>\n",
       "      <td>Entire home</td>\n",
       "      <td>Entire home/apt</td>\n",
       "      <td>2.0</td>\n",
       "      <td>2.0</td>\n",
       "      <td>728.0</td>\n",
       "      <td>2</td>\n",
       "      <td>28</td>\n",
       "      <td>1.0</td>\n",
       "      <td>1125.0</td>\n",
       "      <td>...</td>\n",
       "      <td>30</td>\n",
       "      <td>0</td>\n",
       "      <td>0</td>\n",
       "      <td>3.77</td>\n",
       "      <td>92109</td>\n",
       "      <td>95170.0</td>\n",
       "      <td>house</td>\n",
       "      <td>1</td>\n",
       "      <td>0.900577</td>\n",
       "      <td>150.04</td>\n",
       "    </tr>\n",
       "  </tbody>\n",
       "</table>\n",
       "<p>1 rows × 24 columns</p>\n",
       "</div>"
      ],
      "text/plain": [
       "   host_listings_count property_type        room_type  bathrooms  bedrooms  \\\n",
       "0                 52.0   Entire home  Entire home/apt        2.0       2.0   \n",
       "\n",
       "   price  minimum_nights  maximum_nights  minimum_minimum_nights  \\\n",
       "0  728.0               2              28                     1.0   \n",
       "\n",
       "   maximum_maximum_nights  ... calculated_host_listings_count  \\\n",
       "0                  1125.0  ...                             30   \n",
       "\n",
       "   calculated_host_listings_count_private_rooms  \\\n",
       "0                                             0   \n",
       "\n",
       "   calculated_host_listings_count_shared_rooms reviews_per_month  zipcode  \\\n",
       "0                                            0              3.77    92109   \n",
       "\n",
       "   median_income_dollars  property_type_binary  private  sentiment  \\\n",
       "0                95170.0                 house        1   0.900577   \n",
       "\n",
       "   review_score_weighted  \n",
       "0                 150.04  \n",
       "\n",
       "[1 rows x 24 columns]"
      ]
     },
     "execution_count": 66,
     "metadata": {},
     "output_type": "execute_result"
    }
   ],
   "source": [
    "# Read in the csv file from the previous notebook\n",
    "preproc_df = pd.read_csv(\"../Data/clean_df.csv.gz\",\n",
    "                         compression = \"gzip\")\n",
    "\n",
    "preproc_df.head(1)"
   ]
  },
  {
   "cell_type": "code",
   "execution_count": 67,
   "metadata": {},
   "outputs": [
    {
     "data": {
      "text/plain": [
       "host_listings_count                               51\n",
       "property_type                                      0\n",
       "room_type                                          0\n",
       "bathrooms                                          0\n",
       "bedrooms                                        1534\n",
       "price                                              0\n",
       "minimum_nights                                     0\n",
       "maximum_nights                                     0\n",
       "minimum_minimum_nights                             2\n",
       "maximum_maximum_nights                             2\n",
       "has_availability                                   0\n",
       "availability_30                                    0\n",
       "availability_365                                   0\n",
       "instant_bookable                                   0\n",
       "calculated_host_listings_count                     0\n",
       "calculated_host_listings_count_private_rooms       0\n",
       "calculated_host_listings_count_shared_rooms        0\n",
       "reviews_per_month                               3180\n",
       "zipcode                                            0\n",
       "median_income_dollars                              0\n",
       "property_type_binary                               0\n",
       "private                                            0\n",
       "sentiment                                          0\n",
       "review_score_weighted                           3180\n",
       "dtype: int64"
      ]
     },
     "execution_count": 67,
     "metadata": {},
     "output_type": "execute_result"
    }
   ],
   "source": [
    "preproc_df.isna().sum()"
   ]
  },
  {
   "cell_type": "markdown",
   "metadata": {},
   "source": [
    "### Resolving Missing Values in _bedrooms_"
   ]
  },
  {
   "cell_type": "code",
   "execution_count": 68,
   "metadata": {},
   "outputs": [
    {
     "data": {
      "text/plain": [
       "property_type\n",
       "Entire rental unit             641\n",
       "Entire guesthouse              190\n",
       "Entire condo                   174\n",
       "Entire guest suite             136\n",
       "Entire serviced apartment      102\n",
       "Entire home                     72\n",
       "Entire loft                     44\n",
       "Camper/RV                       23\n",
       "Entire cottage                  19\n",
       "Private room in rental unit     18\n",
       "Entire bungalow                 17\n",
       "Tiny home                       15\n",
       "Private room in home            12\n",
       "Room in boutique hotel          11\n",
       "Private room in resort          10\n",
       "Entire vacation home             9\n",
       "Room in hotel                    8\n",
       "Private room in guest suite      6\n",
       "Private room in guesthouse       4\n",
       "Private room in condo            3\n",
       "Private room in camper/rv        3\n",
       "Private room in hostel           2\n",
       "Entire place                     2\n",
       "Barn                             2\n",
       "Private room in bungalow         1\n",
       "Private room in cottage          1\n",
       "Private room in loft             1\n",
       "Casa particular                  1\n",
       "Entire villa                     1\n",
       "Entire townhouse                 1\n",
       "Campsite                         1\n",
       "Tent                             1\n",
       "Earthen home                     1\n",
       "Entire cabin                     1\n",
       "Tipi                             1\n",
       "Name: count, dtype: int64"
      ]
     },
     "execution_count": 68,
     "metadata": {},
     "output_type": "execute_result"
    }
   ],
   "source": [
    "# First, assess the types of listings missing records bedrooms\n",
    "preproc_df[preproc_df[\"bedrooms\"].isnull()][\"property_type\"].value_counts()"
   ]
  },
  {
   "cell_type": "markdown",
   "metadata": {},
   "source": [
    "It can be reasonably assumed that property type values with \"room\" or \"RV\" are a have a single bedroom. So the missing values can be filled with the value of 1."
   ]
  },
  {
   "cell_type": "code",
   "execution_count": 69,
   "metadata": {},
   "outputs": [],
   "source": [
    "# Fill bedrooms with a value of 1 for those that are listed as rooms\n",
    "# Indexes of records with the word \"room\" or RV in the property_type\n",
    "room_idx = preproc_df[\n",
    "    preproc_df[\"property_type\"].astype(str).str.contains(\"|\".join([\"room\", \"Room\", \"RV\"]))\n",
    "    ].index.tolist()\n",
    "\n",
    "preproc_df.loc[room_idx, \"bedrooms\"] = preproc_df.loc[room_idx, \"bedrooms\"].fillna(1)"
   ]
  },
  {
   "cell_type": "markdown",
   "metadata": {},
   "source": [
    "Typically, the number of bedrooms and bathrooms are fairly similar. Thus, the unique number of bedroom-bathroom combinations will be examined. The number of bedrooms will be filled based on the number of bathrooms."
   ]
  },
  {
   "cell_type": "code",
   "execution_count": 70,
   "metadata": {},
   "outputs": [
    {
     "data": {
      "text/html": [
       "<div>\n",
       "<style scoped>\n",
       "    .dataframe tbody tr th:only-of-type {\n",
       "        vertical-align: middle;\n",
       "    }\n",
       "\n",
       "    .dataframe tbody tr th {\n",
       "        vertical-align: top;\n",
       "    }\n",
       "\n",
       "    .dataframe thead th {\n",
       "        text-align: right;\n",
       "    }\n",
       "</style>\n",
       "<table border=\"1\" class=\"dataframe\">\n",
       "  <thead>\n",
       "    <tr style=\"text-align: right;\">\n",
       "      <th></th>\n",
       "      <th>bathrooms</th>\n",
       "      <th>bedrooms</th>\n",
       "      <th>count</th>\n",
       "    </tr>\n",
       "  </thead>\n",
       "  <tbody>\n",
       "    <tr>\n",
       "      <th>5</th>\n",
       "      <td>1.0</td>\n",
       "      <td>1.0</td>\n",
       "      <td>7491</td>\n",
       "    </tr>\n",
       "    <tr>\n",
       "      <th>6</th>\n",
       "      <td>1.0</td>\n",
       "      <td>2.0</td>\n",
       "      <td>2305</td>\n",
       "    </tr>\n",
       "    <tr>\n",
       "      <th>7</th>\n",
       "      <td>1.0</td>\n",
       "      <td>3.0</td>\n",
       "      <td>354</td>\n",
       "    </tr>\n",
       "    <tr>\n",
       "      <th>8</th>\n",
       "      <td>1.0</td>\n",
       "      <td>4.0</td>\n",
       "      <td>14</td>\n",
       "    </tr>\n",
       "    <tr>\n",
       "      <th>9</th>\n",
       "      <td>1.0</td>\n",
       "      <td>5.0</td>\n",
       "      <td>3</td>\n",
       "    </tr>\n",
       "    <tr>\n",
       "      <th>10</th>\n",
       "      <td>1.0</td>\n",
       "      <td>6.0</td>\n",
       "      <td>1</td>\n",
       "    </tr>\n",
       "    <tr>\n",
       "      <th>11</th>\n",
       "      <td>1.0</td>\n",
       "      <td>7.0</td>\n",
       "      <td>1</td>\n",
       "    </tr>\n",
       "    <tr>\n",
       "      <th>12</th>\n",
       "      <td>1.0</td>\n",
       "      <td>9.0</td>\n",
       "      <td>1</td>\n",
       "    </tr>\n",
       "    <tr>\n",
       "      <th>13</th>\n",
       "      <td>1.0</td>\n",
       "      <td>11.0</td>\n",
       "      <td>1</td>\n",
       "    </tr>\n",
       "    <tr>\n",
       "      <th>14</th>\n",
       "      <td>1.0</td>\n",
       "      <td>12.0</td>\n",
       "      <td>3</td>\n",
       "    </tr>\n",
       "    <tr>\n",
       "      <th>15</th>\n",
       "      <td>1.0</td>\n",
       "      <td>17.0</td>\n",
       "      <td>1</td>\n",
       "    </tr>\n",
       "  </tbody>\n",
       "</table>\n",
       "</div>"
      ],
      "text/plain": [
       "    bathrooms  bedrooms  count\n",
       "5         1.0       1.0   7491\n",
       "6         1.0       2.0   2305\n",
       "7         1.0       3.0    354\n",
       "8         1.0       4.0     14\n",
       "9         1.0       5.0      3\n",
       "10        1.0       6.0      1\n",
       "11        1.0       7.0      1\n",
       "12        1.0       9.0      1\n",
       "13        1.0      11.0      1\n",
       "14        1.0      12.0      3\n",
       "15        1.0      17.0      1"
      ]
     },
     "execution_count": 70,
     "metadata": {},
     "output_type": "execute_result"
    }
   ],
   "source": [
    "# Look at all unique bedroom-bathroom combinations in the dataset\n",
    "bed_bath_df = preproc_df.groupby([\"bathrooms\", \"bedrooms\"]).size().reset_index().rename(columns={0:\"count\"})\n",
    "\n",
    "# Look at listings that have one bathroom, to assess the most common number of bedrooms\n",
    "bed_bath_df[bed_bath_df[\"bathrooms\"] == 1]"
   ]
  },
  {
   "cell_type": "code",
   "execution_count": 71,
   "metadata": {},
   "outputs": [
    {
     "data": {
      "text/html": [
       "<div>\n",
       "<style scoped>\n",
       "    .dataframe tbody tr th:only-of-type {\n",
       "        vertical-align: middle;\n",
       "    }\n",
       "\n",
       "    .dataframe tbody tr th {\n",
       "        vertical-align: top;\n",
       "    }\n",
       "\n",
       "    .dataframe thead th {\n",
       "        text-align: right;\n",
       "    }\n",
       "</style>\n",
       "<table border=\"1\" class=\"dataframe\">\n",
       "  <thead>\n",
       "    <tr style=\"text-align: right;\">\n",
       "      <th></th>\n",
       "      <th>bathrooms</th>\n",
       "      <th>bedrooms</th>\n",
       "      <th>count</th>\n",
       "    </tr>\n",
       "  </thead>\n",
       "  <tbody>\n",
       "    <tr>\n",
       "      <th>0</th>\n",
       "      <td>0.0</td>\n",
       "      <td>1.0</td>\n",
       "      <td>46</td>\n",
       "    </tr>\n",
       "    <tr>\n",
       "      <th>1</th>\n",
       "      <td>0.0</td>\n",
       "      <td>2.0</td>\n",
       "      <td>5</td>\n",
       "    </tr>\n",
       "    <tr>\n",
       "      <th>2</th>\n",
       "      <td>0.0</td>\n",
       "      <td>3.0</td>\n",
       "      <td>1</td>\n",
       "    </tr>\n",
       "    <tr>\n",
       "      <th>3</th>\n",
       "      <td>0.0</td>\n",
       "      <td>9.0</td>\n",
       "      <td>1</td>\n",
       "    </tr>\n",
       "  </tbody>\n",
       "</table>\n",
       "</div>"
      ],
      "text/plain": [
       "   bathrooms  bedrooms  count\n",
       "0        0.0       1.0     46\n",
       "1        0.0       2.0      5\n",
       "2        0.0       3.0      1\n",
       "3        0.0       9.0      1"
      ]
     },
     "execution_count": 71,
     "metadata": {},
     "output_type": "execute_result"
    }
   ],
   "source": [
    "# Look at all listings with 0 bathrooms\n",
    "bed_bath_df[bed_bath_df[\"bathrooms\"] == 0]"
   ]
  },
  {
   "cell_type": "markdown",
   "metadata": {},
   "source": [
    "Based on the above, if a listing has zero or one bathroom, it most likely also only has one bedroom. Therefore, if a listing has zero or one bathroom, the value for bedroom will be filled with 1."
   ]
  },
  {
   "cell_type": "code",
   "execution_count": 72,
   "metadata": {},
   "outputs": [],
   "source": [
    "# Fill bedrooms with a value of 1 for 1 bathroom\n",
    "# Indexes of records with 1 bathrooms\n",
    "bathroom_1_idx = preproc_df.loc[\n",
    "    preproc_df[\"bathrooms\"].isin([0,1])\n",
    "    ].index.tolist()\n",
    "\n",
    "preproc_df.loc[bathroom_1_idx, \"bedrooms\"] = preproc_df.loc[bathroom_1_idx, \"bedrooms\"].fillna(1)"
   ]
  },
  {
   "cell_type": "code",
   "execution_count": 73,
   "metadata": {},
   "outputs": [
    {
     "data": {
      "text/html": [
       "<div>\n",
       "<style scoped>\n",
       "    .dataframe tbody tr th:only-of-type {\n",
       "        vertical-align: middle;\n",
       "    }\n",
       "\n",
       "    .dataframe tbody tr th {\n",
       "        vertical-align: top;\n",
       "    }\n",
       "\n",
       "    .dataframe thead th {\n",
       "        text-align: right;\n",
       "    }\n",
       "</style>\n",
       "<table border=\"1\" class=\"dataframe\">\n",
       "  <thead>\n",
       "    <tr style=\"text-align: right;\">\n",
       "      <th></th>\n",
       "      <th>host_listings_count</th>\n",
       "      <th>property_type</th>\n",
       "      <th>room_type</th>\n",
       "      <th>bathrooms</th>\n",
       "      <th>bedrooms</th>\n",
       "      <th>price</th>\n",
       "      <th>minimum_nights</th>\n",
       "      <th>maximum_nights</th>\n",
       "      <th>minimum_minimum_nights</th>\n",
       "      <th>maximum_maximum_nights</th>\n",
       "      <th>...</th>\n",
       "      <th>calculated_host_listings_count</th>\n",
       "      <th>calculated_host_listings_count_private_rooms</th>\n",
       "      <th>calculated_host_listings_count_shared_rooms</th>\n",
       "      <th>reviews_per_month</th>\n",
       "      <th>zipcode</th>\n",
       "      <th>median_income_dollars</th>\n",
       "      <th>property_type_binary</th>\n",
       "      <th>private</th>\n",
       "      <th>sentiment</th>\n",
       "      <th>review_score_weighted</th>\n",
       "    </tr>\n",
       "  </thead>\n",
       "  <tbody>\n",
       "    <tr>\n",
       "      <th>11636</th>\n",
       "      <td>0.0</td>\n",
       "      <td>Entire home</td>\n",
       "      <td>Entire home/apt</td>\n",
       "      <td>2.0</td>\n",
       "      <td>NaN</td>\n",
       "      <td>499.0</td>\n",
       "      <td>2</td>\n",
       "      <td>999</td>\n",
       "      <td>2.0</td>\n",
       "      <td>1125.0</td>\n",
       "      <td>...</td>\n",
       "      <td>15</td>\n",
       "      <td>4</td>\n",
       "      <td>0</td>\n",
       "      <td>NaN</td>\n",
       "      <td>92126</td>\n",
       "      <td>105284.0</td>\n",
       "      <td>house</td>\n",
       "      <td>1</td>\n",
       "      <td>0.999438</td>\n",
       "      <td>NaN</td>\n",
       "    </tr>\n",
       "    <tr>\n",
       "      <th>11637</th>\n",
       "      <td>0.0</td>\n",
       "      <td>Entire home</td>\n",
       "      <td>Entire home/apt</td>\n",
       "      <td>2.0</td>\n",
       "      <td>NaN</td>\n",
       "      <td>499.0</td>\n",
       "      <td>2</td>\n",
       "      <td>365</td>\n",
       "      <td>2.0</td>\n",
       "      <td>1125.0</td>\n",
       "      <td>...</td>\n",
       "      <td>15</td>\n",
       "      <td>4</td>\n",
       "      <td>0</td>\n",
       "      <td>0.20</td>\n",
       "      <td>92126</td>\n",
       "      <td>105284.0</td>\n",
       "      <td>house</td>\n",
       "      <td>1</td>\n",
       "      <td>0.999400</td>\n",
       "      <td>8.00</td>\n",
       "    </tr>\n",
       "    <tr>\n",
       "      <th>13761</th>\n",
       "      <td>29.0</td>\n",
       "      <td>Entire home</td>\n",
       "      <td>Entire home/apt</td>\n",
       "      <td>6.0</td>\n",
       "      <td>NaN</td>\n",
       "      <td>1175.0</td>\n",
       "      <td>2</td>\n",
       "      <td>21</td>\n",
       "      <td>2.0</td>\n",
       "      <td>21.0</td>\n",
       "      <td>...</td>\n",
       "      <td>26</td>\n",
       "      <td>0</td>\n",
       "      <td>0</td>\n",
       "      <td>NaN</td>\n",
       "      <td>92104</td>\n",
       "      <td>79929.0</td>\n",
       "      <td>house</td>\n",
       "      <td>1</td>\n",
       "      <td>0.994432</td>\n",
       "      <td>NaN</td>\n",
       "    </tr>\n",
       "    <tr>\n",
       "      <th>14467</th>\n",
       "      <td>7.0</td>\n",
       "      <td>Tiny home</td>\n",
       "      <td>Entire home/apt</td>\n",
       "      <td>2.0</td>\n",
       "      <td>NaN</td>\n",
       "      <td>99.0</td>\n",
       "      <td>1</td>\n",
       "      <td>1125</td>\n",
       "      <td>1.0</td>\n",
       "      <td>1125.0</td>\n",
       "      <td>...</td>\n",
       "      <td>7</td>\n",
       "      <td>5</td>\n",
       "      <td>0</td>\n",
       "      <td>5.39</td>\n",
       "      <td>92122</td>\n",
       "      <td>88073.0</td>\n",
       "      <td>house</td>\n",
       "      <td>0</td>\n",
       "      <td>0.573923</td>\n",
       "      <td>528.64</td>\n",
       "    </tr>\n",
       "    <tr>\n",
       "      <th>16212</th>\n",
       "      <td>191.0</td>\n",
       "      <td>Entire home</td>\n",
       "      <td>Entire home/apt</td>\n",
       "      <td>2.0</td>\n",
       "      <td>NaN</td>\n",
       "      <td>151.0</td>\n",
       "      <td>30</td>\n",
       "      <td>1125</td>\n",
       "      <td>30.0</td>\n",
       "      <td>1125.0</td>\n",
       "      <td>...</td>\n",
       "      <td>9</td>\n",
       "      <td>0</td>\n",
       "      <td>0</td>\n",
       "      <td>0.85</td>\n",
       "      <td>91910</td>\n",
       "      <td>77005.0</td>\n",
       "      <td>house</td>\n",
       "      <td>1</td>\n",
       "      <td>0.999634</td>\n",
       "      <td>136.01</td>\n",
       "    </tr>\n",
       "  </tbody>\n",
       "</table>\n",
       "<p>5 rows × 24 columns</p>\n",
       "</div>"
      ],
      "text/plain": [
       "       host_listings_count property_type        room_type  bathrooms  \\\n",
       "11636                  0.0   Entire home  Entire home/apt        2.0   \n",
       "11637                  0.0   Entire home  Entire home/apt        2.0   \n",
       "13761                 29.0   Entire home  Entire home/apt        6.0   \n",
       "14467                  7.0     Tiny home  Entire home/apt        2.0   \n",
       "16212                191.0   Entire home  Entire home/apt        2.0   \n",
       "\n",
       "       bedrooms   price  minimum_nights  maximum_nights  \\\n",
       "11636       NaN   499.0               2             999   \n",
       "11637       NaN   499.0               2             365   \n",
       "13761       NaN  1175.0               2              21   \n",
       "14467       NaN    99.0               1            1125   \n",
       "16212       NaN   151.0              30            1125   \n",
       "\n",
       "       minimum_minimum_nights  maximum_maximum_nights  ...  \\\n",
       "11636                     2.0                  1125.0  ...   \n",
       "11637                     2.0                  1125.0  ...   \n",
       "13761                     2.0                    21.0  ...   \n",
       "14467                     1.0                  1125.0  ...   \n",
       "16212                    30.0                  1125.0  ...   \n",
       "\n",
       "      calculated_host_listings_count  \\\n",
       "11636                             15   \n",
       "11637                             15   \n",
       "13761                             26   \n",
       "14467                              7   \n",
       "16212                              9   \n",
       "\n",
       "       calculated_host_listings_count_private_rooms  \\\n",
       "11636                                             4   \n",
       "11637                                             4   \n",
       "13761                                             0   \n",
       "14467                                             5   \n",
       "16212                                             0   \n",
       "\n",
       "       calculated_host_listings_count_shared_rooms reviews_per_month  zipcode  \\\n",
       "11636                                            0               NaN    92126   \n",
       "11637                                            0              0.20    92126   \n",
       "13761                                            0               NaN    92104   \n",
       "14467                                            0              5.39    92122   \n",
       "16212                                            0              0.85    91910   \n",
       "\n",
       "       median_income_dollars  property_type_binary  private  sentiment  \\\n",
       "11636               105284.0                 house        1   0.999438   \n",
       "11637               105284.0                 house        1   0.999400   \n",
       "13761                79929.0                 house        1   0.994432   \n",
       "14467                88073.0                 house        0   0.573923   \n",
       "16212                77005.0                 house        1   0.999634   \n",
       "\n",
       "       review_score_weighted  \n",
       "11636                    NaN  \n",
       "11637                   8.00  \n",
       "13761                    NaN  \n",
       "14467                 528.64  \n",
       "16212                 136.01  \n",
       "\n",
       "[5 rows x 24 columns]"
      ]
     },
     "execution_count": 73,
     "metadata": {},
     "output_type": "execute_result"
    }
   ],
   "source": [
    "# Check for remaining missing bedroom values\n",
    "preproc_df[preproc_df[\"bedrooms\"].isnull()]"
   ]
  },
  {
   "cell_type": "code",
   "execution_count": 74,
   "metadata": {},
   "outputs": [
    {
     "data": {
      "text/plain": [
       "7468    20.0\n",
       "Name: bedrooms, dtype: float64"
      ]
     },
     "execution_count": 74,
     "metadata": {},
     "output_type": "execute_result"
    }
   ],
   "source": [
    "# There is also a hotel with 20 rooms, it should just be one\n",
    "preproc_df[preproc_df['property_type'] == 'Room in hotel']['bedrooms'].sort_values(ascending=False).head(1)"
   ]
  },
  {
   "cell_type": "code",
   "execution_count": 75,
   "metadata": {},
   "outputs": [],
   "source": [
    "# The three of the records were filled by manually looking up the homes using the url provided in the original data\n",
    "preproc_df.loc[11636, \"bedrooms\"] = 1 \n",
    "preproc_df.loc[11637, \"bedrooms\"] = 2 \n",
    "preproc_df.loc[13761, \"bedrooms\"] = 2\n",
    "preproc_df.loc[14467, \"bedrooms\"] = 2 # A tiny home logically cannot have more than 2 bedrooms\n",
    "preproc_df.loc[16212, \"bedrooms\"] = 2 # Most 2 bathroom places have 2 bedrooms in the data\n",
    "preproc_df.loc[7468, \"bedrooms\"] = 1 # This is a hotel with 20 rooms, price is per room not per hotel"
   ]
  },
  {
   "cell_type": "code",
   "execution_count": 76,
   "metadata": {},
   "outputs": [
    {
     "data": {
      "text/plain": [
       "(0, 24)"
      ]
     },
     "execution_count": 76,
     "metadata": {},
     "output_type": "execute_result"
    }
   ],
   "source": [
    "# Check if any missing values are left\n",
    "preproc_df[preproc_df[\"bedrooms\"].isnull()].shape\n",
    "\n",
    "# 0 rows - all missing values have been filled"
   ]
  },
  {
   "cell_type": "markdown",
   "metadata": {},
   "source": [
    "### Dropping Rows with Missing Values\n",
    "There are 51 missing values in _host_listings_count_, 2 in _minimum_minimum_nights_, and 2 in _maximum_minimum_nights_. As these values cannot be imputed, it was deemed acceptable to drop up to 55 records, since the data set contains over 18,000 records."
   ]
  },
  {
   "cell_type": "code",
   "execution_count": 77,
   "metadata": {},
   "outputs": [],
   "source": [
    "# Drop rows with missing values in the following columns\n",
    "preproc_df.dropna(\n",
    "    subset = [\"host_listings_count\", \"minimum_minimum_nights\", \"maximum_maximum_nights\"],\n",
    "    inplace = True)"
   ]
  },
  {
   "cell_type": "markdown",
   "metadata": {},
   "source": [
    "### Imputing Zero for Missing Values in _reviews_per_month_ and _review_score_weighted_"
   ]
  },
  {
   "cell_type": "code",
   "execution_count": 78,
   "metadata": {},
   "outputs": [],
   "source": [
    "preproc_df[\"reviews_per_month\"].fillna(0, inplace = True)\n",
    "preproc_df[\"review_score_weighted\"].fillna(0, inplace = True)"
   ]
  },
  {
   "cell_type": "code",
   "execution_count": 79,
   "metadata": {},
   "outputs": [],
   "source": [
    "# Export imputed dataframe\n",
    "preproc_df.to_csv(\"../Data/model_ready.csv.gz\", compression = \"gzip\", index = False)"
   ]
  }
 ],
 "metadata": {
  "kernelspec": {
   "display_name": "base",
   "language": "python",
   "name": "python3"
  },
  "language_info": {
   "codemirror_mode": {
    "name": "ipython",
    "version": 3
   },
   "file_extension": ".py",
   "mimetype": "text/x-python",
   "name": "python",
   "nbconvert_exporter": "python",
   "pygments_lexer": "ipython3",
   "version": "3.9.12"
  },
  "orig_nbformat": 4
 },
 "nbformat": 4,
 "nbformat_minor": 2
}
